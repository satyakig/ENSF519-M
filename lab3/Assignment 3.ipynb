{
 "cells": [
  {
   "cell_type": "markdown",
   "metadata": {},
   "source": [
    "# ENSF 519.01 Applied Data Science \n",
    "### Satyaki Ghosh, 10077685\n",
    "\n",
    "**Assignment 3** - 100 marks\n",
    "\n",
    "**Due:** November 1st, 04.00 pm.\n",
    "\n",
    "\n",
    "**IMPORTANT NOTE: each task must be implemented as asked, even if there are other easier or better solutions.**\n",
    "\n",
    "**How to deliver:**\n",
    "Edit this file and write your solutions in sections specified with `# Your solution`. Test your code and when you are done, submit this notebook as an `.ipynb` file to D2L dropbox. \n",
    "\n"
   ]
  },
  {
   "cell_type": "markdown",
   "metadata": {},
   "source": [
    "## Problem1: Heart disease diagnosis (75 points)\n",
    "\n",
    "In this problem you are presented with a tabular dataset with 13 attributes that are thought to be good indicators of a heart diseases. We are going to train a number of clustering and binary classification algorithms on these data and see which ones perform better. \n",
    "\n",
    "The dataset is stored in CSV format. Use pandas `read_csv` to load it in python. (2 points)"
   ]
  },
  {
   "cell_type": "code",
   "execution_count": 1,
   "metadata": {
    "scrolled": true
   },
   "outputs": [
    {
     "data": {
      "text/html": [
       "<div>\n",
       "<style scoped>\n",
       "    .dataframe tbody tr th:only-of-type {\n",
       "        vertical-align: middle;\n",
       "    }\n",
       "\n",
       "    .dataframe tbody tr th {\n",
       "        vertical-align: top;\n",
       "    }\n",
       "\n",
       "    .dataframe thead th {\n",
       "        text-align: right;\n",
       "    }\n",
       "</style>\n",
       "<table border=\"1\" class=\"dataframe\">\n",
       "  <thead>\n",
       "    <tr style=\"text-align: right;\">\n",
       "      <th></th>\n",
       "      <th>age</th>\n",
       "      <th>sex</th>\n",
       "      <th>cp</th>\n",
       "      <th>trestbps</th>\n",
       "      <th>chol</th>\n",
       "      <th>fbs</th>\n",
       "      <th>restecg</th>\n",
       "      <th>thalach</th>\n",
       "      <th>exang</th>\n",
       "      <th>oldpeak</th>\n",
       "      <th>slope</th>\n",
       "      <th>ca</th>\n",
       "      <th>thal</th>\n",
       "      <th>target</th>\n",
       "    </tr>\n",
       "  </thead>\n",
       "  <tbody>\n",
       "    <tr>\n",
       "      <td>0</td>\n",
       "      <td>63</td>\n",
       "      <td>1</td>\n",
       "      <td>3</td>\n",
       "      <td>145</td>\n",
       "      <td>233</td>\n",
       "      <td>1</td>\n",
       "      <td>0</td>\n",
       "      <td>150</td>\n",
       "      <td>0</td>\n",
       "      <td>2.3</td>\n",
       "      <td>0</td>\n",
       "      <td>0</td>\n",
       "      <td>1</td>\n",
       "      <td>1</td>\n",
       "    </tr>\n",
       "    <tr>\n",
       "      <td>1</td>\n",
       "      <td>37</td>\n",
       "      <td>1</td>\n",
       "      <td>2</td>\n",
       "      <td>130</td>\n",
       "      <td>250</td>\n",
       "      <td>0</td>\n",
       "      <td>1</td>\n",
       "      <td>187</td>\n",
       "      <td>0</td>\n",
       "      <td>3.5</td>\n",
       "      <td>0</td>\n",
       "      <td>0</td>\n",
       "      <td>2</td>\n",
       "      <td>1</td>\n",
       "    </tr>\n",
       "    <tr>\n",
       "      <td>2</td>\n",
       "      <td>41</td>\n",
       "      <td>0</td>\n",
       "      <td>1</td>\n",
       "      <td>130</td>\n",
       "      <td>204</td>\n",
       "      <td>0</td>\n",
       "      <td>0</td>\n",
       "      <td>172</td>\n",
       "      <td>0</td>\n",
       "      <td>1.4</td>\n",
       "      <td>2</td>\n",
       "      <td>0</td>\n",
       "      <td>2</td>\n",
       "      <td>1</td>\n",
       "    </tr>\n",
       "    <tr>\n",
       "      <td>3</td>\n",
       "      <td>56</td>\n",
       "      <td>1</td>\n",
       "      <td>1</td>\n",
       "      <td>120</td>\n",
       "      <td>236</td>\n",
       "      <td>0</td>\n",
       "      <td>1</td>\n",
       "      <td>178</td>\n",
       "      <td>0</td>\n",
       "      <td>0.8</td>\n",
       "      <td>2</td>\n",
       "      <td>0</td>\n",
       "      <td>2</td>\n",
       "      <td>1</td>\n",
       "    </tr>\n",
       "    <tr>\n",
       "      <td>4</td>\n",
       "      <td>57</td>\n",
       "      <td>0</td>\n",
       "      <td>0</td>\n",
       "      <td>120</td>\n",
       "      <td>354</td>\n",
       "      <td>0</td>\n",
       "      <td>1</td>\n",
       "      <td>163</td>\n",
       "      <td>1</td>\n",
       "      <td>0.6</td>\n",
       "      <td>2</td>\n",
       "      <td>0</td>\n",
       "      <td>2</td>\n",
       "      <td>1</td>\n",
       "    </tr>\n",
       "    <tr>\n",
       "      <td>...</td>\n",
       "      <td>...</td>\n",
       "      <td>...</td>\n",
       "      <td>...</td>\n",
       "      <td>...</td>\n",
       "      <td>...</td>\n",
       "      <td>...</td>\n",
       "      <td>...</td>\n",
       "      <td>...</td>\n",
       "      <td>...</td>\n",
       "      <td>...</td>\n",
       "      <td>...</td>\n",
       "      <td>...</td>\n",
       "      <td>...</td>\n",
       "      <td>...</td>\n",
       "    </tr>\n",
       "    <tr>\n",
       "      <td>298</td>\n",
       "      <td>57</td>\n",
       "      <td>0</td>\n",
       "      <td>0</td>\n",
       "      <td>140</td>\n",
       "      <td>241</td>\n",
       "      <td>0</td>\n",
       "      <td>1</td>\n",
       "      <td>123</td>\n",
       "      <td>1</td>\n",
       "      <td>0.2</td>\n",
       "      <td>1</td>\n",
       "      <td>0</td>\n",
       "      <td>3</td>\n",
       "      <td>0</td>\n",
       "    </tr>\n",
       "    <tr>\n",
       "      <td>299</td>\n",
       "      <td>45</td>\n",
       "      <td>1</td>\n",
       "      <td>3</td>\n",
       "      <td>110</td>\n",
       "      <td>264</td>\n",
       "      <td>0</td>\n",
       "      <td>1</td>\n",
       "      <td>132</td>\n",
       "      <td>0</td>\n",
       "      <td>1.2</td>\n",
       "      <td>1</td>\n",
       "      <td>0</td>\n",
       "      <td>3</td>\n",
       "      <td>0</td>\n",
       "    </tr>\n",
       "    <tr>\n",
       "      <td>300</td>\n",
       "      <td>68</td>\n",
       "      <td>1</td>\n",
       "      <td>0</td>\n",
       "      <td>144</td>\n",
       "      <td>193</td>\n",
       "      <td>1</td>\n",
       "      <td>1</td>\n",
       "      <td>141</td>\n",
       "      <td>0</td>\n",
       "      <td>3.4</td>\n",
       "      <td>1</td>\n",
       "      <td>2</td>\n",
       "      <td>3</td>\n",
       "      <td>0</td>\n",
       "    </tr>\n",
       "    <tr>\n",
       "      <td>301</td>\n",
       "      <td>57</td>\n",
       "      <td>1</td>\n",
       "      <td>0</td>\n",
       "      <td>130</td>\n",
       "      <td>131</td>\n",
       "      <td>0</td>\n",
       "      <td>1</td>\n",
       "      <td>115</td>\n",
       "      <td>1</td>\n",
       "      <td>1.2</td>\n",
       "      <td>1</td>\n",
       "      <td>1</td>\n",
       "      <td>3</td>\n",
       "      <td>0</td>\n",
       "    </tr>\n",
       "    <tr>\n",
       "      <td>302</td>\n",
       "      <td>57</td>\n",
       "      <td>0</td>\n",
       "      <td>1</td>\n",
       "      <td>130</td>\n",
       "      <td>236</td>\n",
       "      <td>0</td>\n",
       "      <td>0</td>\n",
       "      <td>174</td>\n",
       "      <td>0</td>\n",
       "      <td>0.0</td>\n",
       "      <td>1</td>\n",
       "      <td>1</td>\n",
       "      <td>2</td>\n",
       "      <td>0</td>\n",
       "    </tr>\n",
       "  </tbody>\n",
       "</table>\n",
       "<p>303 rows × 14 columns</p>\n",
       "</div>"
      ],
      "text/plain": [
       "     age  sex  cp  trestbps  chol  fbs  restecg  thalach  exang  oldpeak  \\\n",
       "0     63    1   3       145   233    1        0      150      0      2.3   \n",
       "1     37    1   2       130   250    0        1      187      0      3.5   \n",
       "2     41    0   1       130   204    0        0      172      0      1.4   \n",
       "3     56    1   1       120   236    0        1      178      0      0.8   \n",
       "4     57    0   0       120   354    0        1      163      1      0.6   \n",
       "..   ...  ...  ..       ...   ...  ...      ...      ...    ...      ...   \n",
       "298   57    0   0       140   241    0        1      123      1      0.2   \n",
       "299   45    1   3       110   264    0        1      132      0      1.2   \n",
       "300   68    1   0       144   193    1        1      141      0      3.4   \n",
       "301   57    1   0       130   131    0        1      115      1      1.2   \n",
       "302   57    0   1       130   236    0        0      174      0      0.0   \n",
       "\n",
       "     slope  ca  thal  target  \n",
       "0        0   0     1       1  \n",
       "1        0   0     2       1  \n",
       "2        2   0     2       1  \n",
       "3        2   0     2       1  \n",
       "4        2   0     2       1  \n",
       "..     ...  ..   ...     ...  \n",
       "298      1   0     3       0  \n",
       "299      1   0     3       0  \n",
       "300      1   2     3       0  \n",
       "301      1   1     3       0  \n",
       "302      1   1     2       0  \n",
       "\n",
       "[303 rows x 14 columns]"
      ]
     },
     "execution_count": 1,
     "metadata": {},
     "output_type": "execute_result"
    }
   ],
   "source": [
    "import matplotlib.pyplot as plt\n",
    "import numpy as np\n",
    "import pandas as pd\n",
    "%matplotlib inline\n",
    "\n",
    "source_file = 'heart.csv'\n",
    "data = pd.read_csv(source_file) # Your solution\n",
    "data"
   ]
  },
  {
   "cell_type": "markdown",
   "metadata": {},
   "source": [
    "the last column, `target`, indicates if the patient had a heart disease. That column is used as the label and the rest are features in a 13-dimensional feature space. Separate the labels column from the rest of the dataset. (2 points)\n"
   ]
  },
  {
   "cell_type": "code",
   "execution_count": 2,
   "metadata": {},
   "outputs": [
    {
     "name": "stdout",
     "output_type": "stream",
     "text": [
      "(303, 13) (303,)\n"
     ]
    }
   ],
   "source": [
    "# Your solution\n",
    "features = data.loc[:, 'age':'thal'].to_numpy()\n",
    "labels = data.loc[:, 'target'].to_numpy()\n",
    "\n",
    "print(features.shape, labels.shape)  # Expected: (303, 13) (303,)"
   ]
  },
  {
   "cell_type": "markdown",
   "metadata": {},
   "source": [
    "### Finding the best classifiers\n",
    "\n",
    "We want to compare the average performance of the algorithms. To make the comparison fair they need to be evaluated on the same training and test data, in other words we need to control the randomness in training/test data split. So we use a set of *fixed random seeds* for test and train splitting. (15 points)\n",
    "\n",
    "1. Using `sklearn` split the data in two chunks, 1/4 and 3/4, looping over the predefined random seeds(from 5000 to 5051).\n",
    "2. In each iteration create a `LogisticRegression` (use `liblinear` solver) and a `KNeighborsClassifier` (k=10) then train them on the training data.\n",
    "3. In each iteration, evaluate the classifiers on the data and record their scores in the `scores` dictionary.\n",
    "4. Convert the dictionary into a pandas dataframe and call `boxplot` on the dataframe to draw a boxplot of the data. Set the y axis range to (0, 1)."
   ]
  },
  {
   "cell_type": "code",
   "execution_count": 3,
   "metadata": {
    "scrolled": true
   },
   "outputs": [
    {
     "data": {
      "image/png": "[encoded data removed]",
      "text/plain": [
       "<Figure size 720x432 with 1 Axes>"
      ]
     },
     "metadata": {
      "needs_background": "light"
     },
     "output_type": "display_data"
    }
   ],
   "source": [
    "from sklearn.model_selection import train_test_split\n",
    "from sklearn.linear_model import LogisticRegression\n",
    "from sklearn.neighbors import KNeighborsClassifier\n",
    "\n",
    "# Your solution\n",
    "scores = {\n",
    "    'LogisticRegression': [],\n",
    "    'KNeighborsClassifier': [],\n",
    "}\n",
    "\n",
    "for seed in range(5000, 5052):\n",
    "    x_train, x_test, y_train, y_test = train_test_split(features, labels, random_state=seed)\n",
    "    \n",
    "    clf = LogisticRegression(solver='liblinear').fit(x_train, y_train)\n",
    "    knn = KNeighborsClassifier(n_neighbors=10)\n",
    "    \n",
    "    knn.fit(x_train, y_train)\n",
    "    scores['LogisticRegression'].append(clf.score(x_test, y_test))\n",
    "    scores['KNeighborsClassifier'].append(knn.score(x_test, y_test))\n",
    "\n",
    "    \n",
    "df1 = pd.DataFrame(scores)\n",
    "ax1 = df1.boxplot(figsize=(10,6))\n",
    "ax1.set_title('Comparing KNN(10) and LR(liblinear) Scores')\n",
    "ax1.set_ylim(0, 1)\n",
    "ax1.set_ylabel('Score')\n",
    "plt.show()"
   ]
  },
  {
   "cell_type": "markdown",
   "metadata": {},
   "source": [
    "As you can see, with the current settings, logistic regression outperforms KNN algorithm. Let's see if we can help KNN to get better. We'll keep the random seed as a fixed number (5026) and experiment with different values for `k`. \n",
    "\n",
    "### Improving KNN\n",
    "(20 points)\n",
    "\n",
    "1. Split the data into training and testing chunks.\n",
    "2. Train a logistic regression classifier on the training data, then evaluate it on the test data and store the value in `lr_score` variable. This is only used for comparison.\n",
    "3. Complete the test_knn function below:\n",
    "\n",
    "    1. Use a for loop to iterate through `k_range`, use these values for parameter `k` and train a KNN classifier. Pass all `knn_params` as keyword arguments to `KNeighboursClassifier`.\n",
    "    2. Create a 3-tuple (k, train_score, test_score) and append it to scores list where train_score and test_score are the results of evaluating the classifier on the training and test data. \n",
    "    3. Convert the list of tuples into a pandas dataframe. Set appropriate column names, use `k` as the index.\n",
    "\n",
    "4. Call test_knn and store the results in a variable. Use odd numbers from 3 to 25 as the first parameter.\n",
    "5. Plot the accuracy scores. Add a horizontal dashed line to show the value of `lr_score` on the same plot. It would be nicer if you used another color for this line."
   ]
  },
  {
   "cell_type": "code",
   "execution_count": 4,
   "metadata": {},
   "outputs": [
    {
     "data": {
      "image/png": "[encoded data removed]",
      "text/plain": [
       "<Figure size 720x432 with 1 Axes>"
      ]
     },
     "metadata": {
      "needs_background": "light"
     },
     "output_type": "display_data"
    }
   ],
   "source": [
    "import matplotlib.ticker as ticker\n",
    "\n",
    "seed = 5026\n",
    "# Your solution\n",
    "X_TR, X_TST, Y_TR, Y_TST = train_test_split(features, labels, random_state=seed)\n",
    "lr_score = LogisticRegression(solver='liblinear').fit(X_TR, Y_TR).score(X_TST, Y_TST)\n",
    "    \n",
    "def test_knn(k_range, X_train, X_test, y_train, y_test, **knn_params):\n",
    "    scores = []\n",
    "    for k in k_range:\n",
    "        knn = KNeighborsClassifier(n_neighbors=k, **knn_params)\n",
    "        knn.fit(X_train, y_train)\n",
    "        \n",
    "        scores.append((k, knn.score(X_train, y_train), knn.score(X_test, y_test)))\n",
    "        \n",
    "    df = pd.DataFrame(scores, columns=['k', 'train_score', 'test_score'])\n",
    "    df.set_index('k', inplace=True)\n",
    "\n",
    "    return df  # Dataframe\n",
    "\n",
    "odds = list(range(3, 26, 2))\n",
    "df2 = test_knn(odds, X_TR, X_TST, Y_TR, Y_TST)\n",
    "x_vals = df2.index.tolist()\n",
    "\n",
    "fig2, ax2 = plt.subplots()\n",
    "p1 = ax2.plot(x_vals, df2['train_score'], label='train_score')\n",
    "p2 = ax2.plot(x_vals, df2['test_score'], label='test_score')\n",
    "p3 = ax2.axhline(lr_score, color='red', lw=2, label='lr_score', ls='dashed')\n",
    "ax2.set_title('KNN Scores compared to K (weights = uniform)')\n",
    "ax2.set_ylabel('Score')\n",
    "ax2.set_xlabel('K')\n",
    "ax2.legend()\n",
    "ax2.autoscale_view()\n",
    "fig2.set_size_inches(10, 6)\n",
    "plt.grid(True)\n",
    "plt.show()"
   ]
  },
  {
   "cell_type": "markdown",
   "metadata": {},
   "source": [
    "You can see that with different values for K we can find the sweet spot between overfitting and generalization in KNN but it never gets good enough to beat logistic regression.\n",
    "\n",
    "We can change also experiment with changing the [`weights` parameter](https://scikit-learn.org/stable/modules/generated/sklearn.neighbors.KNeighborsClassifier.html) in KNN from its default `uniform` value to `distance`. Call the `test_knn` function again with the same range for `k`, this time passing `weights` parameter as well. Plot the training and test scores as well as the horizontal dashed line that shows `lr_score`. (5 points)"
   ]
  },
  {
   "cell_type": "code",
   "execution_count": 5,
   "metadata": {},
   "outputs": [
    {
     "data": {
      "image/png": "[encoded data removed]",
      "text/plain": [
       "<Figure size 720x432 with 1 Axes>"
      ]
     },
     "metadata": {
      "needs_background": "light"
     },
     "output_type": "display_data"
    }
   ],
   "source": [
    "# Your solution\n",
    "df2 = test_knn(odds, X_TR, X_TST, Y_TR, Y_TST, weights='distance')\n",
    "x_vals = df2.index.tolist()\n",
    "\n",
    "fig2, ax2 = plt.subplots()\n",
    "p1 = ax2.plot(x_vals, df2['train_score'], label='train_score')\n",
    "p2 = ax2.plot(x_vals, df2['test_score'], label='test_score')\n",
    "p3 = ax2.axhline(lr_score, color='red', lw=2, label='lr_score', ls='dashed')\n",
    "ax2.set_title('KNN Scores compared to K (weights = distance)')\n",
    "ax2.set_ylabel('Score')\n",
    "ax2.set_xlabel('K')\n",
    "ax2.legend()\n",
    "ax2.autoscale_view()\n",
    "fig2.set_size_inches(10, 6)\n",
    "plt.grid(True)\n",
    "plt.show()"
   ]
  },
  {
   "cell_type": "markdown",
   "metadata": {},
   "source": [
    "Even though it's overfitting, it performs better on the test set than the previous one. Yet, it's no better than logistic regression."
   ]
  },
  {
   "cell_type": "markdown",
   "metadata": {},
   "source": [
    "### Combining the models (ensemble model)\n",
    "\n",
    "A common way of maximizing the accuracy is to train multiple models and use all for prediction. In a classification problem we use the class that the majority of models have predicted and in a regression problem a weighted average of the predictions is used.\n",
    "\n",
    "Make a function that creates and trains 3 models and returns them in a list. The models are:\n",
    "\n",
    "* A Logistic Regressor with 'liblinear' solver\n",
    "* A KNN classifiers with k = 10 and setting `weights` to 'distance'\n",
    "* Another KNN with k = 20 and setting `weights` to 'distance'\n",
    "\n",
    "and the inputs to the function are X and Y values for the training set. (12 points)"
   ]
  },
  {
   "cell_type": "code",
   "execution_count": 6,
   "metadata": {},
   "outputs": [],
   "source": [
    "def create_models(X_train, y_train):\n",
    "    # Your solution\n",
    "    knn1 = KNeighborsClassifier(n_neighbors=15, weights='distance')\n",
    "    knn1.fit(X_train, y_train)\n",
    "    \n",
    "    knn2 = KNeighborsClassifier(n_neighbors=20, weights='distance')\n",
    "    knn2.fit(X_train, y_train)\n",
    "    \n",
    "    lr = LogisticRegression(solver='liblinear').fit(X_train, y_train)\n",
    "\n",
    "    return [lr, knn1, knn2]\n",
    "\n",
    "models = create_models(X_TR, Y_TR)"
   ]
  },
  {
   "cell_type": "markdown",
   "metadata": {},
   "source": [
    "Create a `predict` function that takes in a list of models and the input vectors (X) and returns the output vector Y using majority voting. To find the majority in an easy way use `mode` function in `scipy` since it supports vectorized operations. (6 points)"
   ]
  },
  {
   "cell_type": "code",
   "execution_count": 7,
   "metadata": {},
   "outputs": [
    {
     "data": {
      "text/plain": [
       "array([0, 1, 1, 1, 1, 0, 0, 0, 1, 1, 1, 0, 1, 1, 0, 1, 0, 1, 1, 1, 1, 1,\n",
       "       1, 0, 0, 0, 1, 0, 0, 1, 1, 1, 1, 0, 1, 0, 0, 1, 0, 1, 1, 0, 0, 0,\n",
       "       1, 1, 1, 0, 1, 0, 0, 0, 1, 0, 1, 1, 0, 1, 1, 1, 0, 0, 1, 0, 1, 1,\n",
       "       1, 1, 0, 0, 1, 0, 1, 1, 1, 1])"
      ]
     },
     "execution_count": 7,
     "metadata": {},
     "output_type": "execute_result"
    }
   ],
   "source": [
    "from scipy.stats import mode\n",
    "\n",
    "def predict(models, X):\n",
    "    # Your solution\n",
    "    predictions = []\n",
    "    for index, model in enumerate(models):\n",
    "        predictions.append(model.predict(X))\n",
    "\n",
    "    return mode(predictions).mode[0]\n",
    "    \n",
    "predict(models, X_TST)  # Expected: 0, 1, 1, 1, 1, 0, 0, 0, ..."
   ]
  },
  {
   "cell_type": "markdown",
   "metadata": {},
   "source": [
    "Use a loop similar to the first part (Finding the best classifiers) to compare the performance of each of the models in the ensemble (=the model list created by `create_models`) and the combined model (call the `predict` function above). To evaluate the accuracy of the combined model use `sklearn.metrics.accuracy_score` method. Draw the boxplot in the end. (13 points)"
   ]
  },
  {
   "cell_type": "code",
   "execution_count": 8,
   "metadata": {},
   "outputs": [
    {
     "data": {
      "image/png": "[encoded data removed]",
      "text/plain": [
       "<Figure size 720x432 with 1 Axes>"
      ]
     },
     "metadata": {
      "needs_background": "light"
     },
     "output_type": "display_data"
    }
   ],
   "source": [
    "from sklearn.metrics import accuracy_score\n",
    "\n",
    "# Your solution\n",
    "# Use LR, KNN15, KNN20, and Combined for the column names\n",
    "\n",
    "# Your solution\n",
    "combined_scores = {\n",
    "    'LR': [],\n",
    "    'KNN15': [],\n",
    "    'KNN20': [],\n",
    "    'Combined': [],\n",
    "}\n",
    "\n",
    "for seed in range(5000, 5052):\n",
    "    x_train, x_test, y_train, y_test = train_test_split(features, labels, random_state=seed)\n",
    "    \n",
    "    model_list = create_models(x_train, y_train)\n",
    "    combined = predict(model_list, x_test)\n",
    "    \n",
    "    combined_scores['LR'].append(model_list[0].score(x_test, y_test))\n",
    "    combined_scores['KNN15'].append(model_list[1].score(x_test, y_test))\n",
    "    combined_scores['KNN20'].append(model_list[2].score(x_test, y_test))\n",
    "    combined_scores['Combined'].append(accuracy_score(y_test, combined))\n",
    "\n",
    "\n",
    "    \n",
    "df3 = pd.DataFrame(combined_scores)\n",
    "ax3 = df3.boxplot(figsize=(10,6))\n",
    "ax3.set_ylim(0, 1)\n",
    "ax3.set_title('Comparing LR(liblinear), KNN(15, distance) and KNN(20, distance) Scores')\n",
    "ax3.set_ylabel('Score')\n",
    "plt.show()"
   ]
  },
  {
   "cell_type": "markdown",
   "metadata": {},
   "source": [
    "Did the result get better than the individual KNN models?\n",
    "### Yes, the combined model is closer to the LR model compared to the individual KNN models."
   ]
  },
  {
   "cell_type": "markdown",
   "metadata": {},
   "source": [
    "## Problem2: Bike sharing (25 points)\n",
    "\n",
    "In this problem we are going to use linear regression to predict the number of bike sharif platfor quality of wine from 1-10. Read the data from CSV file, use 'cnt' column as the target values and all other columns (except 'dteday') as the features (4 points)."
   ]
  },
  {
   "cell_type": "code",
   "execution_count": 9,
   "metadata": {
    "scrolled": true
   },
   "outputs": [
    {
     "name": "stdout",
     "output_type": "stream",
     "text": [
      "(731, 11) (731,)\n"
     ]
    }
   ],
   "source": [
    "from sklearn.linear_model import LinearRegression, Lasso, Ridge\n",
    "\n",
    "# Your solution\n",
    "bike_df = pd.read_csv('bikes.csv')\n",
    "features = bike_df.loc[:, 'season':'windspeed'].to_numpy()\n",
    "target = bike_df.loc[:, 'cnt'].to_numpy()\n",
    "\n",
    "print(features.shape, target.shape) # Expected: (731, 11) (731,)"
   ]
  },
  {
   "cell_type": "markdown",
   "metadata": {},
   "source": [
    "Split the data in two 1/4 and 3/4 chunks for training and testing, use the number 15 as the `random_state` parameter. (2 points)"
   ]
  },
  {
   "cell_type": "code",
   "execution_count": 10,
   "metadata": {},
   "outputs": [],
   "source": [
    "# Your solution\n",
    "X_train, X_test, y_train, y_test = train_test_split(features, target, random_state=15)"
   ]
  },
  {
   "cell_type": "markdown",
   "metadata": {},
   "source": [
    "Train a linear regression model on the data and report the training and test scores. (5 points)"
   ]
  },
  {
   "cell_type": "code",
   "execution_count": 11,
   "metadata": {},
   "outputs": [
    {
     "name": "stdout",
     "output_type": "stream",
     "text": [
      "Training=0.7989\tTest=0.7857\n"
     ]
    }
   ],
   "source": [
    "# Your solution\n",
    "lreg = LinearRegression().fit(X_train, y_train)\n",
    "    \n",
    "training_score = lreg.score(X_train, y_train)\n",
    "test_score = lreg.score(X_test, y_test)\n",
    "print(f'Training={training_score:.4}\\tTest={test_score:.4}')  # Expected: Training=0.7989\tTest=0.7857"
   ]
  },
  {
   "cell_type": "markdown",
   "metadata": {},
   "source": [
    "Regularize the regression model using ridge method. Train it with 10 values of alpha and report training and test scores. (7 points)"
   ]
  },
  {
   "cell_type": "code",
   "execution_count": 12,
   "metadata": {},
   "outputs": [
    {
     "name": "stdout",
     "output_type": "stream",
     "text": [
      "⍺=0.001\tTraining=0.7989\tTest=0.7858\n",
      "⍺=0.01\tTraining=0.7989\tTest=0.7865\n",
      "⍺=0.1\tTraining=0.7987\tTest=0.788\n",
      "⍺=1.0\tTraining=0.7975\tTest=0.7875\n",
      "⍺=2.0\tTraining=0.7956\tTest=0.7856\n",
      "⍺=5.0\tTraining=0.789\tTest=0.7781\n",
      "⍺=10.0\tTraining=0.7768\tTest=0.7638\n",
      "⍺=20.0\tTraining=0.7511\tTest=0.7339\n",
      "⍺=50.0\tTraining=0.6836\tTest=0.6562\n",
      "⍺=100.0\tTraining=0.601\tTest=0.5631\n"
     ]
    }
   ],
   "source": [
    "alpha_values = [1e-3, 1e-2, 1e-1, 1., 2., 5., 10., 20., 50., 100.]\n",
    "\n",
    "for alpha in alpha_values:\n",
    "    # Your solution\n",
    "    ri = Ridge(alpha=alpha)\n",
    "    ri.fit(X_train, y_train)\n",
    "    \n",
    "    training_score = ri.score(X_train, y_train)\n",
    "    test_score = ri.score(X_test, y_test)\n",
    "    print(f'⍺={alpha:.5}\\tTraining={training_score:.4}\\tTest={test_score:.4}')\n",
    "\n",
    "# First line of expected value:\n",
    "# ⍺=0.001\tTraining=0.7989\tTest=0.7858"
   ]
  },
  {
   "cell_type": "markdown",
   "metadata": {},
   "source": [
    "Use the same alpha values, train a lasso regualizer this time. Report the names of the features that got a 0 coefficient after regulazition. Separate their names with a comma, if none of them were omitted report 'no features'. (9 points)"
   ]
  },
  {
   "cell_type": "code",
   "execution_count": 13,
   "metadata": {},
   "outputs": [
    {
     "name": "stdout",
     "output_type": "stream",
     "text": [
      "⍺=0.001\tTraining=0.7989\tTest=0.7857\tno features\n",
      "⍺=0.01\tTraining=0.7989\tTest=0.7857\tno features\n",
      "⍺=0.1\tTraining=0.7989\tTest=0.7859\tno features\n",
      "⍺=1.0\tTraining=0.7988\tTest=0.7865\tno features\n",
      "⍺=2.0\tTraining=0.7984\tTest=0.7869\tno features\n",
      "⍺=5.0\tTraining=0.796\tTest=0.7857\tno features\n",
      "⍺=10.0\tTraining=0.7889\tTest=0.7783\thum\n",
      "⍺=20.0\tTraining=0.7796\tTest=0.7694\tholiday, atemp, hum, windspeed\n",
      "⍺=50.0\tTraining=0.7571\tTest=0.7476\tholiday, atemp, hum, windspeed\n",
      "⍺=100.0\tTraining=0.6854\tTest=0.6755\tmnth, holiday, workingday, atemp, hum, windspeed\n"
     ]
    },
    {
     "name": "stderr",
     "output_type": "stream",
     "text": [
      "/home/satyaki/env/lib/python3.6/site-packages/sklearn/linear_model/coordinate_descent.py:475: ConvergenceWarning: Objective did not converge. You might want to increase the number of iterations. Duality gap: 23068568.161092818, tolerance: 203906.58018156936\n",
      "  positive)\n"
     ]
    }
   ],
   "source": [
    "alpha_values = [1e-3, 1e-2, 1e-1, 1., 2., 5., 10., 20., 50., 100.]\n",
    "column_names = bike_df.loc[:, 'season':'windspeed'].columns\n",
    "\n",
    "for alpha in alpha_values:\n",
    "    # Your solution\n",
    "    la = Lasso(alpha=alpha)\n",
    "    la.fit(X_train, y_train)\n",
    "    \n",
    "    training_score = la.score(X_train, y_train)\n",
    "    test_score = la.score(X_test, y_test)\n",
    "    \n",
    "    zeroes = []\n",
    "    for index, coef in enumerate(la.coef_):\n",
    "        if coef == 0:\n",
    "            zeroes.append(column_names[index])\n",
    "    \n",
    "    zeroed_out_feature_names = 'no features'\n",
    "    if len(zeroes) > 0:\n",
    "        zeroed_out_feature_names = ', '.join(zeroes)\n",
    "    \n",
    "    print(f'⍺={alpha:.5}\\tTraining={training_score:.4}\\tTest={test_score:.4}\\t{zeroed_out_feature_names}')\n",
    "    \n",
    "# First line of expected value:\n",
    "# ⍺=0.001\tTraining=0.7989\tTest=0.7857\tno features"
   ]
  },
  {
   "cell_type": "code",
   "execution_count": null,
   "metadata": {},
   "outputs": [],
   "source": []
  }
 ],
 "metadata": {
  "kernelspec": {
   "display_name": "Python 3",
   "language": "python",
   "name": "python3"
  },
  "language_info": {
   "codemirror_mode": {
    "name": "ipython",
    "version": 3
   },
   "file_extension": ".py",
   "mimetype": "text/x-python",
   "name": "python",
   "nbconvert_exporter": "python",
   "pygments_lexer": "ipython3",
   "version": "3.6.8"
  }
 },
 "nbformat": 4,
 "nbformat_minor": 4
}
